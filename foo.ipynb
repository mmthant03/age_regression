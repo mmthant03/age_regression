{
 "cells": [
  {
   "cell_type": "code",
   "execution_count": 18,
   "metadata": {},
   "outputs": [],
   "source": [
    "import numpy as np\n",
    "\n",
    "def reshapeAndAppend1s(faces):\n",
    "    faces = faces[:, :, ::-1]\n",
    "    faces = faces.T\n",
    "    faces = np.reshape(faces, (faces.shape[0] ** 2, faces.shape[2]))\n",
    "    faces = np.vstack((faces, np.ones(faces.shape[1])))\n",
    "    return faces\n",
    "\n",
    "def fMSE (w, Xtilde, y):\n",
    "    yhat = Xtilde.T.dot(w) \n",
    "    fmse = ((yhat-y)**2).mean() / 2\n",
    "    return fmse\n",
    "\n",
    "def gradfMSE (w, Xtilde, y, alpha = 0.):\n",
    "    return (Xtilde * (Xtilde.T.dot(w) - y)).mean()\n",
    "\n",
    "xtr = reshapeAndAppend1s(np.load(\"age_regression_Xtr.npy\"))\n",
    "ytr = np.load(\"age_regression_ytr.npy\")\n",
    "xte = reshapeAndAppend1s(np.load(\"age_regression_Xte.npy\"))\n",
    "yte = np.load(\"age_regression_yte.npy\")"
   ]
  },
  {
   "cell_type": "code",
   "execution_count": 20,
   "metadata": {},
   "outputs": [
    {
     "name": "stdout",
     "output_type": "stream",
     "text": [
      "138.5910656413313\n"
     ]
    }
   ],
   "source": [
    "lr = 3e-3  # Step size aka learning rate\n",
    "epochs = 5000  # Number of gradient descent iterations\n",
    "\n",
    "w = 0.01 * np.random.randn(xtr.shape[0])\n",
    "\n",
    "for i in range(epochs):\n",
    "    if i % 500 == 0: print(f'epoch {i}')\n",
    "    w = w - (lr * gradfMSE(w, xtr, ytr))\n",
    "\n",
    "print(fMSE(w, xtr, ytr))"
   ]
  },
  {
   "cell_type": "code",
   "execution_count": 21,
   "metadata": {},
   "outputs": [
    {
     "name": "stdout",
     "output_type": "stream",
     "text": [
      "138.5910656413313\n",
      "142.40243689686307\n"
     ]
    }
   ],
   "source": [
    "print(fMSE(w, xtr, ytr))\n",
    "print(fMSE(w, xte, yte))"
   ]
  },
  {
   "cell_type": "code",
   "execution_count": null,
   "metadata": {},
   "outputs": [],
   "source": []
  }
 ],
 "metadata": {
  "kernelspec": {
   "display_name": "Python 3",
   "language": "python",
   "name": "python3"
  },
  "language_info": {
   "codemirror_mode": {
    "name": "ipython",
    "version": 3
   },
   "file_extension": ".py",
   "mimetype": "text/x-python",
   "name": "python",
   "nbconvert_exporter": "python",
   "pygments_lexer": "ipython3",
   "version": "3.6.8"
  }
 },
 "nbformat": 4,
 "nbformat_minor": 4
}

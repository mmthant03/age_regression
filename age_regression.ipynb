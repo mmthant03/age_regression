{
 "cells": [
  {
   "cell_type": "code",
   "execution_count": 2,
   "metadata": {},
   "outputs": [],
   "source": [
    "import numpy as np\n",
    "\n",
    "def reshapeAndAppend1s(faces):\n",
    "    faces = faces[:, :, ::-1]\n",
    "    faces = faces.T\n",
    "    faces = np.reshape(faces, (faces.shape[0] ** 2, faces.shape[2]))\n",
    "    faces = np.vstack((faces, np.ones(faces.shape[1])))\n",
    "    return faces\n",
    "\n",
    "def fMSE (w, Xtilde, y):\n",
    "    yhat = Xtilde.T.dot(w) \n",
    "    fmse = ((yhat-y)**2).mean() / 2\n",
    "    return fmse\n",
    "\n",
    "def gradfMSE (w, Xtilde, y, alpha = 0.):\n",
    "    return (Xtilde * (Xtilde.T.dot(w) - y)).mean() + (w[:-1].T.dot(w[:-1])).mean() * (alpha/2)\n",
    "\n",
    "def grad_descent(alpha = 0.):\n",
    "    lr = 3e-3  # Step size aka learning rate\n",
    "    epochs = 5000  # Number of gradient descent iterations\n",
    "\n",
    "    w = 0.01 * np.random.randn(xtr.shape[0])\n",
    "\n",
    "    for i in range(epochs):\n",
    "        w = w - (lr * gradfMSE(w, xtr, ytr))\n",
    "        \n",
    "    return w\n",
    "\n",
    "xtr = reshapeAndAppend1s(np.load(\"age_regression_Xtr.npy\"))\n",
    "ytr = np.load(\"age_regression_ytr.npy\")\n",
    "xte = reshapeAndAppend1s(np.load(\"age_regression_Xte.npy\"))\n",
    "yte = np.load(\"age_regression_yte.npy\")"
   ]
  },
  {
   "cell_type": "code",
   "execution_count": 3,
   "metadata": {},
   "outputs": [],
   "source": [
    "w1 = np.linalg.solve(xtr.dot(xtr.T), xtr.dot(ytr))"
   ]
  },
  {
   "cell_type": "code",
   "execution_count": 4,
   "metadata": {},
   "outputs": [],
   "source": [
    "w2 = grad_descent()"
   ]
  },
  {
   "cell_type": "code",
   "execution_count": 5,
   "metadata": {},
   "outputs": [],
   "source": [
    "w3 = grad_descent(0.1)"
   ]
  },
  {
   "cell_type": "code",
   "execution_count": 6,
   "metadata": {},
   "outputs": [
    {
     "output_type": "stream",
     "name": "stdout",
     "text": "39.242962989290696\n206.7964748541472\n138.39569310345385\n142.2624090730585\n138.3170561430746\n142.17673546896182\n"
    }
   ],
   "source": [
    "print(fMSE(w1, xtr, ytr))\n",
    "print(fMSE(w1, xte, yte))\n",
    "\n",
    "print(fMSE(w2, xtr, ytr))\n",
    "print(fMSE(w2, xte, yte))\n",
    "\n",
    "print(fMSE(w3, xtr, ytr))\n",
    "print(fMSE(w3, xte, yte))"
   ]
  },
  {
   "cell_type": "code",
   "execution_count": 12,
   "metadata": {},
   "outputs": [
    {
     "output_type": "display_data",
     "data": {
      "text/plain": "<Figure size 432x288 with 1 Axes>",
      "image/png": "[encoded data removed]"
     },
     "metadata": {
      "needs_background": "light"
     }
    }
   ],
   "source": [
    "from matplotlib import pyplot as plt\n",
    "j=1\n",
    "for i in [w1, w2, w3]:\n",
    "    t = i[:2304].reshape((48,48))\n",
    "    plt.imshow(t)\n",
    "    # plt.show()\n",
    "    plt.savefig(\"w\"+str(j)+\".png\")\n",
    "    j = j+1"
   ]
  },
  {
   "cell_type": "code",
   "execution_count": 16,
   "metadata": {},
   "outputs": [
    {
     "output_type": "stream",
     "name": "stdout",
     "text": "16.862783605855935\n830\n1120\n2451\n389\n2439\n"
    },
    {
     "output_type": "display_data",
     "data": {
      "text/plain": "<Figure size 432x288 with 1 Axes>",
      "image/png": "[encoded data removed]"
     },
     "metadata": {
      "needs_background": "light"
     }
    }
   ],
   "source": [
    "# report rmse for part c\n",
    "yhat = xte.T.dot(w3)\n",
    "# print(yhat)\n",
    "rmse = (((yhat-yte)**2).mean()) ** 0.5\n",
    "print(rmse)\n",
    "\n",
    "errors = abs(yte - yhat)\n",
    "errors_idx = np.argsort(errors)\n",
    "errors_idx = errors_idx[::-1]\n",
    "errors_idx = errors_idx[0:5]\n",
    "\n",
    "for i in errors_idx:\n",
    "    print(i)\n",
    "    image = xte[:-1, i].reshape((48,48))\n",
    "    image_file = str(i)+\".png\"\n",
    "    plt.imshow(image)\n",
    "    plt.savefig(image_file)\n",
    ""
   ]
  },
  {
   "cell_type": "code",
   "execution_count": 15,
   "metadata": {},
   "outputs": [
    {
     "output_type": "stream",
     "name": "stdout",
     "text": "Index :\t 830\ny :\t 89.0\nyhat :\t 27.948594193100362\nIndex :\t 1120\ny :\t 99.0\nyhat :\t 38.389028544143166\nIndex :\t 2451\ny :\t 3.0\nyhat :\t 62.37672341400574\nIndex :\t 389\ny :\t 8.0\nyhat :\t 62.49544910618134\nIndex :\t 2439\ny :\t 20.0\nyhat :\t 73.09878958709973\n"
    }
   ],
   "source": [
    "for i in errors_idx:\n",
    "    print(\"Index :\\t\", i)\n",
    "    \n",
    "    print(\"y :\\t\", yte[i])\n",
    "    print(\"yhat :\\t\", yhat[i])"
   ]
  },
  {
   "cell_type": "code",
   "execution_count": null,
   "metadata": {},
   "outputs": [],
   "source": []
  }
 ],
 "metadata": {
  "kernelspec": {
   "display_name": "Python 3",
   "language": "python",
   "name": "python3"
  },
  "language_info": {
   "codemirror_mode": {
    "name": "ipython",
    "version": 3
   },
   "file_extension": ".py",
   "mimetype": "text/x-python",
   "name": "python",
   "nbconvert_exporter": "python",
   "pygments_lexer": "ipython3",
   "version": "3.7.3-final"
  }
 },
 "nbformat": 4,
 "nbformat_minor": 4
}